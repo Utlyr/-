{
 "cells": [
  {
   "cell_type": "markdown",
   "metadata": {},
   "source": [
    "#### 1. 社交网络构建与分析"
   ]
  },
  {
   "cell_type": "code",
   "execution_count": 4,
   "metadata": {},
   "outputs": [
    {
     "name": "stdout",
     "output_type": "stream",
     "text": [
      "姓名 : Yanyan-Wang \n",
      "朋友 : ['Aarebecca', 'pomelo-nwu', 'yangzy0603', 'tyn1998', 'yvonneyx', 'lidongze0629', 'RackweLLizm', 'yikenie', 'yubo0923', 'Maple0817', 'wj23027', 'frank-zsy', 'andyhuang18', 'bifenglin']\n",
      "姓名 : Aarebecca \n",
      "朋友 : ['Yanyan-Wang', 'pomelo-nwu', 'yangzy0603', 'yvonneyx', 'lidongze0629', 'tyn1998', 'RackweLLizm', 'yikenie', 'yubo0923', 'Maple0817', 'frank-zsy']\n",
      "姓名 : pomelo-nwu \n",
      "朋友 : ['Yanyan-Wang', 'Aarebecca', 'yangzy0603', 'tyn1998', 'lidongze0629', 'yvonneyx', 'RackweLLizm', 'yikenie', 'bifenglin', 'frank-zsy', 'yubo0923', 'wj23027', 'andyhuang18', 'Maple0817', 'will-ww', 'zhicheng-ning', 'PureNatural', 'xiaoya-yaya', 'xgdyp', 'longyanz', 'Zzzzzhuzhiwei', 'birdflyi', 'lhbvvvvv', 'zhaosj975']\n",
      "姓名 : tyn1998 \n",
      "朋友 : ['andyhuang18', 'pomelo-nwu', 'frank-zsy', 'wj23027', 'bifenglin', 'Yanyan-Wang', 'will-ww', 'Zzzzzhuzhiwei', 'lhbvvvvv', 'zhicheng-ning', 'PureNatural', 'yangzy0603', 'xgdyp', 'stevending1st', 'wxharry', 'Aarebecca', 'birdflyi', 'xiaoya-yaya', 'pranavshuklaa', 'lidongze0629', 'yvonneyx', 'stealth-bombeer', 'RackweLLizm', 'yikenie', 'Vlad116', 'longyanz', 'zhaosj975', 'yubo0923', 'Maple0817', 'kunal8411']\n",
      "姓名 : frank-zsy \n",
      "朋友 : ['tyn1998', 'Zzzzzhuzhiwei', 'xgdyp', 'will-ww', 'PureNatural', 'stevending1st', 'birdflyi', 'bifenglin', 'andyhuang18', 'lhbvvvvv', 'wj23027', 'zhicheng-ning', 'pomelo-nwu', 'xiaoya-yaya', 'Yanyan-Wang', 'yangzy0603', 'wxharry', 'pranavshuklaa', 'stealth-bombeer', 'kunal8411', 'Vlad116', 'zhaosj975', 'Aarebecca', 'lidongze0629', 'longyanz', 'yvonneyx', 'RackweLLizm', 'yikenie', 'yubo0923', 'Maple0817']\n",
      "姓名 : will-ww \n",
      "朋友 : ['bifenglin', 'zhicheng-ning', 'tyn1998', 'Zzzzzhuzhiwei', 'andyhuang18', 'frank-zsy', 'PureNatural', 'lhbvvvvv', 'wj23027', 'xiaoya-yaya', 'xgdyp', 'birdflyi', 'longyanz', 'stevending1st', 'pomelo-nwu', 'zhaosj975', 'kunal8411']\n",
      "姓名 : zhicheng-ning \n",
      "朋友 : ['will-ww', 'andyhuang18', 'tyn1998', 'wj23027', 'bifenglin', 'Zzzzzhuzhiwei', 'frank-zsy', 'lhbvvvvv', 'PureNatural', 'xgdyp', 'xiaoya-yaya', 'stevending1st', 'birdflyi', 'longyanz', 'pomelo-nwu', 'kunal8411', 'zhaosj975']\n",
      "姓名 : xgdyp \n",
      "朋友 : ['frank-zsy', 'Zzzzzhuzhiwei', 'PureNatural', 'bifenglin', 'birdflyi', 'tyn1998', 'will-ww', 'xiaoya-yaya', 'zhicheng-ning', 'stevending1st', 'lhbvvvvv', 'andyhuang18', 'longyanz', 'pomelo-nwu', 'wj23027', 'zhaosj975']\n",
      "姓名 : stevending1st \n",
      "朋友 : ['tyn1998', 'frank-zsy', 'Zzzzzhuzhiwei', 'andyhuang18', 'xgdyp', 'lhbvvvvv', 'will-ww', 'birdflyi', 'wj23027', 'PureNatural', 'zhicheng-ning', 'bifenglin', 'wxharry', 'pranavshuklaa', 'kunal8411', 'xiaoya-yaya', 'stealth-bombeer', 'Vlad116']\n",
      "姓名 : andyhuang18 \n",
      "朋友 : ['tyn1998', 'wj23027', 'will-ww', 'zhicheng-ning', 'lhbvvvvv', 'frank-zsy', 'bifenglin', 'wxharry', 'Zzzzzhuzhiwei', 'stevending1st', 'PureNatural', 'pranavshuklaa', 'pomelo-nwu', 'stealth-bombeer', 'Vlad116', 'kunal8411', 'xgdyp', 'longyanz', 'xiaoya-yaya', 'zhaosj975', 'birdflyi', 'Yanyan-Wang', 'yangzy0603']\n",
      "姓名 : Zzzzzhuzhiwei \n",
      "朋友 : ['frank-zsy', 'will-ww', 'tyn1998', 'xgdyp', 'lhbvvvvv', 'PureNatural', 'birdflyi', 'zhicheng-ning', 'bifenglin', 'andyhuang18', 'stevending1st', 'wj23027', 'xiaoya-yaya', 'wxharry', 'pranavshuklaa', 'stealth-bombeer', 'Vlad116', 'longyanz', 'pomelo-nwu', 'zhaosj975']\n",
      "姓名 : wxharry \n",
      "朋友 : ['tyn1998', 'andyhuang18', 'lhbvvvvv', 'pranavshuklaa', 'stealth-bombeer', 'Vlad116', 'Zzzzzhuzhiwei', 'stevending1st', 'wj23027', 'frank-zsy']\n",
      "姓名 : bifenglin \n",
      "朋友 : ['will-ww', 'tyn1998', 'PureNatural', 'xgdyp', 'xiaoya-yaya', 'frank-zsy', 'zhicheng-ning', 'birdflyi', 'Zzzzzhuzhiwei', 'andyhuang18', 'pomelo-nwu', 'longyanz', 'wj23027', 'lhbvvvvv', 'stevending1st', 'zhaosj975', 'Yanyan-Wang', 'yangzy0603']\n",
      "姓名 : yangzy0603 \n",
      "朋友 : ['pomelo-nwu', 'Aarebecca', 'Yanyan-Wang', 'tyn1998', 'yvonneyx', 'lidongze0629', 'RackweLLizm', 'yikenie', 'yubo0923', 'Maple0817', 'frank-zsy', 'wj23027', 'andyhuang18', 'bifenglin']\n",
      "姓名 : lidongze0629 \n",
      "朋友 : ['pomelo-nwu', 'Yanyan-Wang', 'Aarebecca', 'yangzy0603', 'tyn1998', 'yvonneyx', 'RackweLLizm', 'yikenie', 'yubo0923', 'Maple0817', 'frank-zsy']\n",
      "姓名 : wj23027 \n",
      "朋友 : ['andyhuang18', 'tyn1998', 'zhicheng-ning', 'will-ww', 'frank-zsy', 'Zzzzzhuzhiwei', 'lhbvvvvv', 'pomelo-nwu', 'bifenglin', 'stevending1st', 'kunal8411', 'Yanyan-Wang', 'PureNatural', 'xgdyp', 'xiaoya-yaya', 'longyanz', 'wxharry', 'pranavshuklaa', 'stealth-bombeer', 'Vlad116', 'yangzy0603', 'birdflyi', 'zhaosj975']\n",
      "姓名 : PureNatural \n",
      "朋友 : ['bifenglin', 'xgdyp', 'tyn1998', 'frank-zsy', 'will-ww', 'Zzzzzhuzhiwei', 'birdflyi', 'zhicheng-ning', 'xiaoya-yaya', 'andyhuang18', 'lhbvvvvv', 'stevending1st', 'pomelo-nwu', 'longyanz', 'wj23027', 'zhaosj975']\n",
      "姓名 : kunal8411 \n",
      "朋友 : ['andyhuang18', 'wj23027', 'tyn1998', 'zhicheng-ning', 'stevending1st', 'frank-zsy', 'will-ww']\n",
      "姓名 : birdflyi \n",
      "朋友 : ['xgdyp', 'frank-zsy', 'Zzzzzhuzhiwei', 'bifenglin', 'PureNatural', 'tyn1998', 'will-ww', 'stevending1st', 'xiaoya-yaya', 'zhicheng-ning', 'lhbvvvvv', 'andyhuang18', 'longyanz', 'pomelo-nwu', 'wj23027', 'zhaosj975']\n",
      "姓名 : lhbvvvvv \n",
      "朋友 : ['tyn1998', 'Zzzzzhuzhiwei', 'andyhuang18', 'will-ww', 'frank-zsy', 'zhicheng-ning', 'wj23027', 'wxharry', 'PureNatural', 'bifenglin', 'stevending1st', 'xgdyp', 'pranavshuklaa', 'birdflyi', 'stealth-bombeer', 'Vlad116', 'xiaoya-yaya', 'pomelo-nwu', 'zhaosj975', 'longyanz']\n",
      "姓名 : xiaoya-yaya \n",
      "朋友 : ['bifenglin', 'will-ww', 'tyn1998', 'xgdyp', 'PureNatural', 'zhicheng-ning', 'Zzzzzhuzhiwei', 'birdflyi', 'longyanz', 'frank-zsy', 'andyhuang18', 'pomelo-nwu', 'lhbvvvvv', 'wj23027', 'stevending1st', 'zhaosj975']\n",
      "姓名 : stealth-bombeer \n",
      "朋友 : ['tyn1998', 'wxharry', 'andyhuang18', 'lhbvvvvv', 'pranavshuklaa', 'Vlad116', 'Zzzzzhuzhiwei', 'stevending1st', 'wj23027', 'frank-zsy']\n",
      "姓名 : yikenie \n",
      "朋友 : ['pomelo-nwu', 'Aarebecca', 'Yanyan-Wang', 'yangzy0603', 'lidongze0629', 'tyn1998', 'yvonneyx', 'RackweLLizm', 'yubo0923', 'Maple0817', 'frank-zsy']\n",
      "姓名 : RackweLLizm \n",
      "朋友 : ['pomelo-nwu', 'Aarebecca', 'Yanyan-Wang', 'yangzy0603', 'lidongze0629', 'tyn1998', 'yvonneyx', 'yikenie', 'yubo0923', 'Maple0817', 'frank-zsy']\n",
      "姓名 : pranavshuklaa \n",
      "朋友 : ['tyn1998', 'wxharry', 'andyhuang18', 'lhbvvvvv', 'stealth-bombeer', 'Vlad116', 'Zzzzzhuzhiwei', 'stevending1st', 'wj23027', 'frank-zsy']\n",
      "姓名 : Vlad116 \n",
      "朋友 : ['tyn1998', 'wxharry', 'andyhuang18', 'lhbvvvvv', 'pranavshuklaa', 'stealth-bombeer', 'Zzzzzhuzhiwei', 'stevending1st', 'wj23027', 'frank-zsy']\n",
      "姓名 : Maple0817 \n",
      "朋友 : ['pomelo-nwu', 'Aarebecca', 'Yanyan-Wang', 'yangzy0603', 'lidongze0629', 'tyn1998', 'yvonneyx', 'RackweLLizm', 'yikenie', 'yubo0923', 'frank-zsy']\n",
      "姓名 : yvonneyx \n",
      "朋友 : ['Aarebecca', 'pomelo-nwu', 'Yanyan-Wang', 'yangzy0603', 'lidongze0629', 'tyn1998', 'RackweLLizm', 'yikenie', 'yubo0923', 'Maple0817', 'frank-zsy']\n",
      "姓名 : yubo0923 \n",
      "朋友 : ['pomelo-nwu', 'Aarebecca', 'Yanyan-Wang', 'yangzy0603', 'lidongze0629', 'tyn1998', 'yvonneyx', 'RackweLLizm', 'yikenie', 'Maple0817', 'frank-zsy']\n",
      "姓名 : zhaosj975 \n",
      "朋友 : ['tyn1998', 'will-ww', 'andyhuang18', 'bifenglin', 'PureNatural', 'zhicheng-ning', 'frank-zsy', 'lhbvvvvv', 'pomelo-nwu', 'wj23027', 'xgdyp', 'longyanz', 'birdflyi', 'xiaoya-yaya', 'Zzzzzhuzhiwei']\n",
      "姓名 : longyanz \n",
      "朋友 : ['bifenglin', 'will-ww', 'tyn1998', 'xiaoya-yaya', 'zhicheng-ning', 'xgdyp', 'andyhuang18', 'PureNatural', 'pomelo-nwu', 'wj23027', 'Zzzzzhuzhiwei', 'birdflyi', 'lhbvvvvv', 'frank-zsy', 'zhaosj975']\n"
     ]
    }
   ],
   "source": [
    "import networkx as nx\n",
    "import matplotlib.pyplot as plt\n",
    "import json\n",
    "\n",
    "with open(r\"C:\\Users\\34065\\Desktop\\mpy\\myhomework\\data\\hw4_data.json\") as f:#读取数据\n",
    "    data = f.read()\n",
    "data = json.loads(data)\n",
    "#采用字典法存图\n",
    "class graph:\n",
    "    def __init__(self,mydata:dict):\n",
    "        self.Ims=dict() #影响力分数\n",
    "        self.edge=dict() #边，格式为{a,[(b,c]}}表示a连向b连接强度为c\n",
    "        for x in mydata['nodes']:\n",
    "            self.Ims[x[0]]=x[1]\n",
    "            self.edge[x[0]]=list()\n",
    "        for x in mydata['edges']:\n",
    "            self.edge[x[0]].append((x[1],x[2]))\n",
    "            self.edge[x[1]].append((x[0],x[2]))\n",
    "\n",
    "g=graph(data)\n",
    "\n",
    "#列出每个用户的直接朋友\n",
    "friends = dict()\n",
    "for x in g.edge:\n",
    "    friends[x]=list()\n",
    "    for y in g.edge[x]:\n",
    "        friends[x].append(y[0])\n",
    "for key,val in friends.items():\n",
    "    print(\"姓名 : {} \\n朋友 : {}\".format(key,val))"
   ]
  },
  {
   "cell_type": "markdown",
   "metadata": {},
   "source": [
    "#### 2. 统计与度中心性分析  \n",
    "a. 计算每个用户的度数（即直接朋友数量），列出度数最多的前5个用户及其朋友数量。  \n",
    "b. 通过影响力分数（如上所示），找出影响力最高的前5个用户。  \n",
    "c. 综合考虑影响力分数和朋友数量，列出对社交网络最有影响力的用户（可以选择将两者按一定比例加权，例如影响力得分的50%和朋友数量的50%）。\n",
    "\n",
    "##### 实现方法：利用优先队列，分别按度数，影响力分数，加权分数建立三个大根堆即可"
   ]
  },
  {
   "cell_type": "code",
   "execution_count": 13,
   "metadata": {},
   "outputs": [
    {
     "name": "stdout",
     "output_type": "stream",
     "text": [
      "直接朋友最多的五个用户：\n",
      "姓名：frank-zsy，朋友数：30\n",
      "姓名：tyn1998，朋友数：30\n",
      "姓名：pomelo-nwu，朋友数：24\n",
      "姓名：andyhuang18，朋友数：23\n",
      "姓名：wj23027，朋友数：23\n",
      "\n",
      "影响力的五个用户：\n",
      "姓名：Yanyan-Wang，影响力：50.95\n",
      "姓名：Aarebecca，影响力：23.82\n",
      "姓名：pomelo-nwu，影响力：22.36\n",
      "姓名：tyn1998，影响力：16.64\n",
      "姓名：frank-zsy，影响力：15.8\n",
      "\n",
      "最有影响力的用户：\n",
      "姓名：Yanyan-Wang，综合影响力：32.475\n"
     ]
    }
   ],
   "source": [
    "from queue import PriorityQueue #导入优先级队列库\n",
    "q1 = PriorityQueue() #度\n",
    "q2 = PriorityQueue() #影响力\n",
    "q3 = PriorityQueue() #加权分数\n",
    "\n",
    "for key,val in g.edge.items():\n",
    "    q1.put((-len(val),key)) #python优先队列是越小优先级越高，故权值设置为相反数即可\n",
    "    q2.put((-g.Ims[key],key))\n",
    "    q3.put((-(len(val)+g.Ims[key])/2,key))\n",
    "print(\"直接朋友最多的五个用户：\")\n",
    "for i in range(5):\n",
    "    item = q1.get()\n",
    "    print(\"姓名：{}，朋友数：{}\".format(item[1],-item[0]))\n",
    "print()\n",
    "print(\"影响力的五个用户：\")\n",
    "for i in range(5):\n",
    "    item = q2.get()\n",
    "    print(\"姓名：{}，影响力：{}\".format(item[1],-item[0]))\n",
    "print()\n",
    "print(\"最有影响力的用户：\")\n",
    "item = q3.get()\n",
    "print(\"姓名：{}，综合影响力：{}\".format(item[1],-item[0]))"
   ]
  }
 ],
 "metadata": {
  "kernelspec": {
   "display_name": ".venv",
   "language": "python",
   "name": "python3"
  },
  "language_info": {
   "codemirror_mode": {
    "name": "ipython",
    "version": 3
   },
   "file_extension": ".py",
   "mimetype": "text/x-python",
   "name": "python",
   "nbconvert_exporter": "python",
   "pygments_lexer": "ipython3",
   "version": "3.11.9"
  }
 },
 "nbformat": 4,
 "nbformat_minor": 2
}
