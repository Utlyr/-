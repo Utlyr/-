{
 "cells": [
  {
   "cell_type": "code",
   "execution_count": 4,
   "metadata": {},
   "outputs": [],
   "source": [
    "import math"
   ]
  },
  {
   "cell_type": "markdown",
   "metadata": {},
   "source": [
    "1.编写 Python 程序，求两个正整数的最大公约数。"
   ]
  },
  {
   "cell_type": "code",
   "execution_count": 1,
   "metadata": {},
   "outputs": [
    {
     "name": "stdout",
     "output_type": "stream",
     "text": [
      "5\n"
     ]
    }
   ],
   "source": [
    "def gcd(a:int,b:int)->int:\n",
    "    if b == 0:\n",
    "        return a\n",
    "    else:\n",
    "        return gcd(b,a%b)\n",
    "\n",
    "print(gcd(5,10))\n",
    "#输入：5 10\n",
    "#输出：5"
   ]
  },
  {
   "cell_type": "markdown",
   "metadata": {},
   "source": [
    "2.用if语句实现百分制转等级制（考试成绩，60分以下不合格，60—74分合格，75—89分为良好，90分以上为优秀）。"
   ]
  },
  {
   "cell_type": "code",
   "execution_count": 2,
   "metadata": {},
   "outputs": [
    {
     "name": "stdout",
     "output_type": "stream",
     "text": [
      "合格\n"
     ]
    }
   ],
   "source": [
    "def f2(a:int):\n",
    "    #a = float(input())\n",
    "    if a >= 90:\n",
    "        print(\"优秀\")\n",
    "    elif a >= 75:\n",
    "        print(\"良好\")\n",
    "    elif a >= 60:\n",
    "        print(\"合格\")\n",
    "    else:\n",
    "        print(\"不合格\")\n",
    "f2(65)\n",
    "#输入65，输出合格"
   ]
  },
  {
   "cell_type": "markdown",
   "metadata": {},
   "source": [
    "3.编写Python程序，完成十进制小数到二进制小数的转换"
   ]
  },
  {
   "cell_type": "code",
   "execution_count": 6,
   "metadata": {},
   "outputs": [
    {
     "name": "stdout",
     "output_type": "stream",
     "text": [
      "10.110101000111101011100\n"
     ]
    }
   ],
   "source": [
    "\n",
    "def f3(a:float):\n",
    "    #a = float(input())\n",
    "\n",
    "    #先将a拆分为整数与小数部分\n",
    "    z,f = 0,0\n",
    "    z = int(math.floor(a))\n",
    "    f = a-z\n",
    "\n",
    "    #处理整数部分\n",
    "    ansz = \"\"\n",
    "    while z > 0:\n",
    "        if z % 2 == 1:\n",
    "            ansz+='1'\n",
    "        else:\n",
    "            ansz+='0'\n",
    "        z//=2\n",
    "    ansz1 = \"\"\n",
    "    for i in ansz:\n",
    "        ansz1 = i+ansz1\n",
    "    if len(ansz1) == 0:\n",
    "        ansz1+='0'\n",
    "    #处理小数部分\n",
    "    esp = 20 #精度，小数点后20位\n",
    "    ansf = ''\n",
    "    con = 0\n",
    "    while f != 0 and con <= esp:\n",
    "        f *= 2\n",
    "        con+=1\n",
    "        if f > 1:\n",
    "            ansf+='1'\n",
    "            f-=1\n",
    "        else:\n",
    "            ansf+='0'\n",
    "\n",
    "    #打印结果\n",
    "    if len(ansf) == 0:\n",
    "        print(ansz1)\n",
    "    else:\n",
    "        print(ansz1+'.'+ansf)\n",
    "\n",
    "f3(2.83)"
   ]
  },
  {
   "cell_type": "markdown",
   "metadata": {},
   "source": [
    "4.编写Python程序，产生10-20的随机浮点数"
   ]
  },
  {
   "cell_type": "code",
   "execution_count": 7,
   "metadata": {},
   "outputs": [
    {
     "name": "stdout",
     "output_type": "stream",
     "text": [
      "13.440615457588734\n"
     ]
    }
   ],
   "source": [
    "import random\n",
    "print(random.uniform(10,20))"
   ]
  },
  {
   "cell_type": "markdown",
   "metadata": {},
   "source": [
    "5.编写一个Python函数，判断一个整数是否是回文数。回文数是指正序（从左向右）和倒序（从右向左）读都是一样的数。"
   ]
  },
  {
   "cell_type": "code",
   "execution_count": 8,
   "metadata": {},
   "outputs": [
    {
     "name": "stdout",
     "output_type": "stream",
     "text": [
      "No\n"
     ]
    }
   ],
   "source": [
    "def check(s:str):\n",
    "    for i in range(0,len(s)):\n",
    "        if s[i] != s[len(s)-1-i]:\n",
    "            return 0\n",
    "    return 1\n",
    "#输入abcd\n",
    "s = input()\n",
    "if check(s) == 1:\n",
    "    print(\"Yes\")\n",
    "else:\n",
    "    print(\"No\")"
   ]
  },
  {
   "cell_type": "markdown",
   "metadata": {},
   "source": [
    "6.编写一个Python函数，返回一个包含斐波那契数列的前N个数的列表。斐波那契数列是一个数列，其中每个数是前两个数的和，数列以0和1开始。"
   ]
  },
  {
   "cell_type": "code",
   "execution_count": 36,
   "metadata": {},
   "outputs": [
    {
     "name": "stdout",
     "output_type": "stream",
     "text": [
      "0 1 1 2 3 5 8 13 21 34 55 "
     ]
    }
   ],
   "source": [
    "def get(n:int):\n",
    "    arr = list()\n",
    "    if n >= 2:\n",
    "        arr.append(0);arr.append(1)\n",
    "    else:\n",
    "        arr.append(0)\n",
    "    for i in range(2,n+1):\n",
    "        arr.append(arr[i-2]+arr[i-1])\n",
    "    return arr\n",
    "\n",
    "arr = get(10)\n",
    "\n",
    "for i in arr:\n",
    "    print(i,end=' ')"
   ]
  },
  {
   "cell_type": "markdown",
   "metadata": {},
   "source": [
    "7.编写一个Python函数，接受一个整数数组作为输入，返回数组中第二大的数。如果数组中只有一个元素或数组为空，则返回-1。"
   ]
  },
  {
   "cell_type": "code",
   "execution_count": 9,
   "metadata": {},
   "outputs": [
    {
     "name": "stdout",
     "output_type": "stream",
     "text": [
      "23\n"
     ]
    }
   ],
   "source": [
    "def getsmax(arr:list):\n",
    "    if len(arr) <= 1:\n",
    "        return -1\n",
    "    arr.sort()\n",
    "    print(arr[len(arr)-2])\n",
    "\n",
    "getsmax([1,23,45,6,3,2])"
   ]
  },
  {
   "cell_type": "markdown",
   "metadata": {},
   "source": [
    "8.编写一个函数，使其能够用正则表达式的方式简单验证身份证号是否合法。"
   ]
  },
  {
   "cell_type": "code",
   "execution_count": 10,
   "metadata": {},
   "outputs": [
    {
     "name": "stdout",
     "output_type": "stream",
     "text": [
      "True\n",
      "False\n"
     ]
    }
   ],
   "source": [
    "import re\n",
    "\n",
    "pattern = r\"^[1-9]\\d{5}(19|20)\\d{2}(0[1-9]|1[0-2])(0[1-9]|1\\d|2\\d|3[0-1])\\d{3}(\\d|X)$\"\n",
    "\n",
    "def validate_id_card(s:str):\n",
    "    ans = re.match(pattern,s,flags=0)\n",
    "    if ans == None:\n",
    "        return False\n",
    "    else:\n",
    "        return True\n",
    "\n",
    "#测试\n",
    "print(validate_id_card(\"500233200506112010\"))\n",
    "print(validate_id_card(\"023345200506119804\"))"
   ]
  }
 ],
 "metadata": {
  "kernelspec": {
   "display_name": ".venv",
   "language": "python",
   "name": "python3"
  },
  "language_info": {
   "codemirror_mode": {
    "name": "ipython",
    "version": 3
   },
   "file_extension": ".py",
   "mimetype": "text/x-python",
   "name": "python",
   "nbconvert_exporter": "python",
   "pygments_lexer": "ipython3",
   "version": "3.11.9"
  }
 },
 "nbformat": 4,
 "nbformat_minor": 2
}
