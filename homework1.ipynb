{
 "cells": [
  {
   "cell_type": "code",
   "execution_count": 2,
   "metadata": {},
   "outputs": [],
   "source": [
    "import ipywidgets as widgets\t# 控件库\n",
    "from IPython.display import display\t# 显示控件的方法"
   ]
  },
  {
   "cell_type": "markdown",
   "metadata": {},
   "source": [
    "1.编写Python程序，打印\"数据科学与工程导论\"，并使用 print(chr(0x2605)) 语句将星星包围起来。"
   ]
  },
  {
   "cell_type": "code",
   "execution_count": 3,
   "metadata": {},
   "outputs": [
    {
     "name": "stdout",
     "output_type": "stream",
     "text": [
      "★★★★★★★★★★★\n",
      "★数据科学与工程导论★\n",
      "★★★★★★★★★★★"
     ]
    }
   ],
   "source": [
    "for _ in range(11):\n",
    "    print(chr(0x2605),end='')\n",
    "print()\n",
    "print(chr(0x2605),end='')\n",
    "print(\"数据科学与工程导论\",end='')\n",
    "print(chr(0x2605))\n",
    "for _ in range(11):\n",
    "    print(chr(0x2605),end='')"
   ]
  },
  {
   "cell_type": "markdown",
   "metadata": {},
   "source": [
    "2.写一个 Python 程序，输入 x, y, z 这三个数，将这三个数从小到大使用 print 函数打印出来。"
   ]
  },
  {
   "cell_type": "code",
   "execution_count": 8,
   "metadata": {},
   "outputs": [
    {
     "name": "stdout",
     "output_type": "stream",
     "text": [
      "1 2 3 "
     ]
    }
   ],
   "source": [
    "arr = input().split(' ')\n",
    "for i in arr:\n",
    "    i = float(i)\n",
    "arr.sort()\n",
    "for i in arr:\n",
    "    print(i,end=' ')\n",
    "#输入2 3 1"
   ]
  },
  {
   "cell_type": "markdown",
   "metadata": {},
   "source": [
    "3.写一个 Python 程序，有 w, x, y, z 四个数，将这四个数从大到小使用 print 函数打印出来。"
   ]
  },
  {
   "cell_type": "code",
   "execution_count": 9,
   "metadata": {},
   "outputs": [
    {
     "name": "stdout",
     "output_type": "stream",
     "text": [
      "4 3 2 1 "
     ]
    }
   ],
   "source": [
    "arr = input().split(' ')\n",
    "for i in arr:\n",
    "    i = float(i)\n",
    "arr.sort(reverse=True)\n",
    "for i in arr:\n",
    "    print(i,end=' ')\n",
    "#输入2 1 4 3"
   ]
  },
  {
   "cell_type": "markdown",
   "metadata": {},
   "source": [
    "4.写一个 Python 程序，输出 1-100 中的所有奇数。"
   ]
  },
  {
   "cell_type": "code",
   "execution_count": 12,
   "metadata": {},
   "outputs": [
    {
     "name": "stdout",
     "output_type": "stream",
     "text": [
      "1 3 5 7 9\n",
      "11 13 15 17 19\n",
      "21 23 25 27 29\n",
      "31 33 35 37 39\n",
      "41 43 45 47 49\n",
      "51 53 55 57 59\n",
      "61 63 65 67 69\n",
      "71 73 75 77 79\n",
      "81 83 85 87 89\n",
      "91 93 95 97 99\n"
     ]
    }
   ],
   "source": [
    "tot = 0\n",
    "for i in range(1,101):\n",
    "    if i % 2 == 1:\n",
    "        tot += 1\n",
    "        if tot == 5:\n",
    "            print(i)\n",
    "            tot = 0\n",
    "        else:\n",
    "            print(i,end=' ')"
   ]
  },
  {
   "cell_type": "markdown",
   "metadata": {},
   "source": [
    "5.写一个 Python 程序，用 for 循环，求解 1 到 100 的和。"
   ]
  },
  {
   "cell_type": "code",
   "execution_count": 13,
   "metadata": {},
   "outputs": [
    {
     "name": "stdout",
     "output_type": "stream",
     "text": [
      "5050\n"
     ]
    }
   ],
   "source": [
    "sum = 0\n",
    "for i in range(1,101):\n",
    "    sum += i\n",
    "print(sum)"
   ]
  },
  {
   "cell_type": "markdown",
   "metadata": {},
   "source": [
    "6.写一个 Python 程序，分别用 for 和 while 循环实现对一个给定序列的倒排序输出。例如，给定 L=[1,2,3,4,5]，输出为 [5,4,3,2,1]。"
   ]
  },
  {
   "cell_type": "code",
   "execution_count": 3,
   "metadata": {},
   "outputs": [
    {
     "name": "stdout",
     "output_type": "stream",
     "text": [
      "5 4 3 2 1 \n",
      "5 4 3 2 1 "
     ]
    }
   ],
   "source": [
    "arr = input().split(' ')\n",
    "for i in arr:\n",
    "    i = float(i)\n",
    "arr.reverse()\n",
    "for i in arr:\n",
    "    print(i,end=' ')\n",
    "print()\n",
    "i = 0\n",
    "n = len(arr)\n",
    "while i < n:\n",
    "    print(arr[i],end=' ')\n",
    "    i+=1\n",
    "#输入1 2 3 4 5"
   ]
  },
  {
   "cell_type": "markdown",
   "metadata": {},
   "source": [
    "7.写一个 Python 程序，判断一个输入的字符串 S 是否包含由两个或两个以上连续出现的相同字符组成的字符串。例如，abccccda 中就包含 cccc 这个由 4 个连续字符组成的字符串。"
   ]
  },
  {
   "cell_type": "code",
   "execution_count": 17,
   "metadata": {},
   "outputs": [
    {
     "name": "stdout",
     "output_type": "stream",
     "text": [
      "YES\n"
     ]
    }
   ],
   "source": [
    "s = input()\n",
    "n = len(s)\n",
    "flag = 1\n",
    "for i in range(0,n-1):\n",
    "    if s[i]==s[i+1]:\n",
    "        flag = 0\n",
    "        print(\"YES\")\n",
    "        break\n",
    "if flag == 1:\n",
    "    print(\"NO\")"
   ]
  },
  {
   "cell_type": "markdown",
   "metadata": {},
   "source": [
    "8.写一个 Python 程序，输入一个字符串 S，去掉其中所有的空格后输出。例如，“DataScience and Engineering”，去掉空格后为“DataScienceandEngineering”。"
   ]
  },
  {
   "cell_type": "code",
   "execution_count": 18,
   "metadata": {},
   "outputs": [
    {
     "name": "stdout",
     "output_type": "stream",
     "text": [
      "DataSecienceandEngineering"
     ]
    }
   ],
   "source": [
    "s = input().split(' ')\n",
    "for _ in s:\n",
    "    print(_,end='')\n",
    "#输入 DataScience and Engineering"
   ]
  },
  {
   "cell_type": "markdown",
   "metadata": {},
   "source": [
    "9.请设计一个求 3 次方根的算法（不允许直接调用求方根的函数），并给出对应的 Python 程序。"
   ]
  },
  {
   "cell_type": "code",
   "execution_count": 26,
   "metadata": {},
   "outputs": [
    {
     "name": "stdout",
     "output_type": "stream",
     "text": [
      "5.0\n"
     ]
    }
   ],
   "source": [
    "#二分法求三次方根\n",
    "esp = 1e-9 #精度\n",
    "def get(x:float):\n",
    "    l,r=0,0\n",
    "    if x==0:\n",
    "        return 0\n",
    "    if x < 0:\n",
    "        l=x\n",
    "    else:\n",
    "        r=x\n",
    "    ans=0\n",
    "    while r-l > esp:\n",
    "        mid = (l+r)/2\n",
    "        if mid*mid*mid == x:\n",
    "            return mid\n",
    "        elif mid*mid*mid > x:\n",
    "            ans = mid\n",
    "            r = mid-1e-9\n",
    "        else:\n",
    "            l=mid+1e-9\n",
    "    return ans\n",
    "x = float(input())\n",
    "print(round(get(x),6))\n",
    "#输入 125"
   ]
  },
  {
   "cell_type": "markdown",
   "metadata": {},
   "source": [
    "10.写一个 Python 程序，给定一个常数 n（n>0），求 n 的阶乘，即 n!=1×2×...×(n-1)×n。例如，4!=24，5!=120。"
   ]
  },
  {
   "cell_type": "code",
   "execution_count": 4,
   "metadata": {},
   "outputs": [
    {
     "name": "stdout",
     "output_type": "stream",
     "text": [
      "3628800\n"
     ]
    }
   ],
   "source": [
    "x = int(input())\n",
    "def fact(n:int):\n",
    "    ans = 1\n",
    "    for i in range(1,n+1):\n",
    "        ans = ans*i\n",
    "    return ans\n",
    "print(fact(x))"
   ]
  }
 ],
 "metadata": {
  "kernelspec": {
   "display_name": ".venv",
   "language": "python",
   "name": "python3"
  },
  "language_info": {
   "codemirror_mode": {
    "name": "ipython",
    "version": 3
   },
   "file_extension": ".py",
   "mimetype": "text/x-python",
   "name": "python",
   "nbconvert_exporter": "python",
   "pygments_lexer": "ipython3",
   "version": "3.11.9"
  }
 },
 "nbformat": 4,
 "nbformat_minor": 2
}
