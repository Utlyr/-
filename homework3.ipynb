{
 "cells": [
  {
   "cell_type": "code",
   "execution_count": 4,
   "metadata": {},
   "outputs": [],
   "source": [
    "import random\n",
    "import time\n",
    "import numpy as np\n",
    "import pandas as pd"
   ]
  },
  {
   "cell_type": "markdown",
   "metadata": {},
   "source": [
    "1.编写 Python程序,判断输入a是否为质数。"
   ]
  },
  {
   "cell_type": "code",
   "execution_count": 3,
   "metadata": {},
   "outputs": [
    {
     "name": "stdout",
     "output_type": "stream",
     "text": [
      "Yes\n"
     ]
    }
   ],
   "source": [
    "def isprime(n:int):\n",
    "    if n == 1 :\n",
    "        return 0\n",
    "    if n == 2 :\n",
    "        return 1\n",
    "    i = 2\n",
    "    while i*i<=n:\n",
    "        if n % i == 0:\n",
    "            return 0\n",
    "        i+=1\n",
    "    return 1\n",
    "n = int(input())\n",
    "if isprime(n):\n",
    "    print(\"Yes\")\n",
    "else:\n",
    "    print(\"No\")"
   ]
  },
  {
   "cell_type": "markdown",
   "metadata": {},
   "source": [
    "2.用Python实现插入排序该算法，不允许直接调用插入排序函数，需要手动实现其逻辑过程。"
   ]
  },
  {
   "cell_type": "code",
   "execution_count": 1,
   "metadata": {},
   "outputs": [
    {
     "name": "stdout",
     "output_type": "stream",
     "text": [
      "[1, 2, 4, 5, 5, 7, 10, 23, 23, 49, 66]\n"
     ]
    }
   ],
   "source": [
    "def InsertSort(arr):\n",
    "    n = len(arr)\n",
    "    for i in range(1,n):\n",
    "        for j in range(i,0,-1):\n",
    "            if arr[j] < arr[j-1]:\n",
    "                tmp = arr[j-1]\n",
    "                arr[j-1]=arr[j]\n",
    "                arr[j]=tmp\n",
    "\n",
    "arr = input().split()\n",
    "for i in range(0,len(arr)):\n",
    "    arr[i]=int(arr[i])\n",
    "InsertSort(arr)\n",
    "print(arr)\n",
    "#样例：10 5 23 4 49 66 23 2 1 5 7"
   ]
  },
  {
   "cell_type": "markdown",
   "metadata": {},
   "source": [
    "3.用Python实现选择排序该算法，不允许直接调用插入排序函数，需要手动实现其逻辑过程。"
   ]
  },
  {
   "cell_type": "code",
   "execution_count": 2,
   "metadata": {},
   "outputs": [
    {
     "name": "stdout",
     "output_type": "stream",
     "text": [
      "[1, 2, 4, 5, 5, 7, 10, 23, 23, 49, 66]\n"
     ]
    }
   ],
   "source": [
    "def SelSort(arr):\n",
    "    n = len(arr)\n",
    "    for i in range(0,n-1):\n",
    "        for j in range(i+1,n):\n",
    "            if arr[j]<arr[i]:\n",
    "                tmp=arr[j]\n",
    "                arr[j]=arr[i]\n",
    "                arr[i]=tmp\n",
    "arr = input().split(' ')\n",
    "for i in range(0,len(arr)):\n",
    "    arr[i]=int(arr[i])\n",
    "SelSort(arr)\n",
    "print(arr)\n",
    "#样例：10 5 23 4 49 66 23 2 1 5 7"
   ]
  },
  {
   "cell_type": "markdown",
   "metadata": {},
   "source": [
    "4.用Python实现快速排序该算法，不允许直接调用插入排序函数，需要手动实现其逻辑过程。"
   ]
  },
  {
   "cell_type": "code",
   "execution_count": 5,
   "metadata": {},
   "outputs": [
    {
     "name": "stdout",
     "output_type": "stream",
     "text": [
      "[1, 2, 4, 5, 5, 7, 10, 23, 23, 49, 66]\n"
     ]
    }
   ],
   "source": [
    "def swap(arr,a:int,b:int):\n",
    "    tmp = arr[a]\n",
    "    arr[a]=arr[b]\n",
    "    arr[b]=tmp\n",
    "def QSort(arr,l:int,r:int):\n",
    "    if l >= r:\n",
    "        return\n",
    "    if l==r-1:\n",
    "        if arr[l]>arr[r]:\n",
    "            tmp=arr[l]\n",
    "            arr[l]=arr[r]\n",
    "            arr[r]=tmp\n",
    "        return\n",
    "    #随机化一个元素\n",
    "    index = random.randint(l,r)\n",
    "    swap(arr,r,index)\n",
    "    lx=l-1\n",
    "    for i in range(l,r):\n",
    "        if arr[r]>=arr[i]:\n",
    "            lx+=1\n",
    "            swap(arr,lx,i)\n",
    "    lx+=1;swap(arr,lx,r)\n",
    "    QSort(arr,l,lx-1)\n",
    "    QSort(arr,lx+1,r)\n",
    "\n",
    "arr = input().split()\n",
    "\n",
    "for i in range(0,len(arr)):\n",
    "    arr[i]=int(arr[i])\n",
    "QSort(arr,0,len(arr)-1)\n",
    "print(arr)\n",
    "#样例：10 5 23 4 49 66 23 2 1 5 7\n"
   ]
  },
  {
   "cell_type": "markdown",
   "metadata": {},
   "source": [
    "5.使用 Python 随机生成三组长度递增的随机数列，长度分别为100、1000、10000，对生成的随机数组使用不同的排序算法，例如选择排序和归并排序，至少三种排序方法。对这些数列的数据排序，并分析不同排序算法在不同长度数列下的运行效果，例如运行时间等指标。（可以使用排序函数）"
   ]
  },
  {
   "cell_type": "code",
   "execution_count": 24,
   "metadata": {},
   "outputs": [
    {
     "name": "stdout",
     "output_type": "stream",
     "text": [
      "数据规模：100 个\n",
      "运行时间： 插入排序：0.0010023117065429688 s 选择排序：0.0009963512420654297 s 快速排序：0.0010006427764892578 s \n",
      "数据规模：1000 个\n",
      "运行时间： 插入排序：0.08966898918151855 s 选择排序：0.08026409149169922 s 快速排序：0.003000020980834961 s \n",
      "数据规模：10000 个\n",
      "运行时间： 插入排序：9.092384099960327 s 选择排序：8.474534749984741 s 快速排序：0.031075000762939453 s \n"
     ]
    }
   ],
   "source": [
    "#利用np.random.ranint()生成随机数组\n",
    "def GetRunTime(n:int):\n",
    "    print(\"数据规模：{} 个\".format(n))\n",
    "    print(\"运行时间：\",end=' ')\n",
    "    arr1 = np.random.randint(0,100000000,n)\n",
    "    arr2 = arr1.copy()\n",
    "    arr3 = arr1.copy()\n",
    "    st1=time.time()\n",
    "    InsertSort(arr1)\n",
    "    et1=time.time()\n",
    "    print(\"插入排序：{} s\".format(et1-st1),end=' ')\n",
    "    st2=time.time()\n",
    "    SelSort(arr2)\n",
    "    et2=time.time()\n",
    "    print(\"选择排序：{} s\".format(et2-st2),end=' ')\n",
    "    st3=time.time()\n",
    "    QSort(arr3,0,len(arr3)-1)\n",
    "    et3=time.time()\n",
    "    print(\"快速排序：{} s\".format(et3-st3),end=' ')\n",
    "    print()\n",
    "GetRunTime(100)\n",
    "GetRunTime(1000)\n",
    "GetRunTime(10000)\n",
    "\n"
   ]
  },
  {
   "cell_type": "markdown",
   "metadata": {},
   "source": [
    "6.使用python代码获取当前系统时间"
   ]
  },
  {
   "cell_type": "code",
   "execution_count": 53,
   "metadata": {},
   "outputs": [
    {
     "name": "stdout",
     "output_type": "stream",
     "text": [
      "Sat Oct 19 11:49:42 2024\n",
      "1729309782.6569521\n",
      "2024-10-19 11:49:42\n"
     ]
    }
   ],
   "source": [
    "print(time.ctime())\n",
    "print(time.time())\n",
    "print(time.strftime(\"%Y-%m-%d %H:%M:%S\",time.localtime()))"
   ]
  },
  {
   "cell_type": "markdown",
   "metadata": {},
   "source": [
    "7.Homework/data文件夹下的stuGrade.csv文件中包含5位同学的学号、语文成绩、数学成绩和英语成绩，请先用记事本打开该文件，查看文件内容，然后编写Python程序，读取该文件，并计算出各科的平均成绩（保留2位小数）"
   ]
  },
  {
   "cell_type": "code",
   "execution_count": 52,
   "metadata": {},
   "outputs": [
    {
     "name": "stdout",
     "output_type": "stream",
     "text": [
      "Chinese : 82.60\n",
      "Math : 81.00\n",
      "English : 81.80\n"
     ]
    }
   ],
   "source": [
    "data = pd.read_csv(r\"C:\\Users\\34065\\Desktop\\mpy\\myhomework\\data\\stuGrade.csv\")\n",
    "print(\"Chinese : {:.2f}\".format(data['chinese'].mean()))\n",
    "print(\"Math : {:.2f}\".format(data['math'].mean()))\n",
    "print(\"English : {:.2f}\".format(data['english'].mean()))\n",
    "\n",
    "#第八题\n",
    "with open(\"my.txt\",'w',encoding='utf-8') as f:\n",
    "    f.write(\"江楠 10235501463\\n\")\n",
    "    f.write(\"94.00,94.5,92.47\\n\")\n",
    "    f.write(time.strftime(\"%Y-%m-%d %H:%M:%S\\n\",time.localtime()))\n",
    "    time.sleep(2)\n",
    "    f.write(time.strftime(\"%Y-%m-%d %H:%M:%S\",time.localtime()))\n",
    "    \n"
   ]
  }
 ],
 "metadata": {
  "kernelspec": {
   "display_name": ".venv",
   "language": "python",
   "name": "python3"
  },
  "language_info": {
   "codemirror_mode": {
    "name": "ipython",
    "version": 3
   },
   "file_extension": ".py",
   "mimetype": "text/x-python",
   "name": "python",
   "nbconvert_exporter": "python",
   "pygments_lexer": "ipython3",
   "version": "3.11.9"
  }
 },
 "nbformat": 4,
 "nbformat_minor": 2
}
