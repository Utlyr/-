{
 "cells": [
  {
   "cell_type": "code",
   "execution_count": 27,
   "metadata": {},
   "outputs": [],
   "source": [
    "import random"
   ]
  },
  {
   "cell_type": "markdown",
   "metadata": {},
   "source": [
    "1.编写 Python程序,判断输入a是否为质数。"
   ]
  },
  {
   "cell_type": "code",
   "execution_count": 3,
   "metadata": {},
   "outputs": [
    {
     "name": "stdout",
     "output_type": "stream",
     "text": [
      "Yes\n"
     ]
    }
   ],
   "source": [
    "def isprime(n:int):\n",
    "    if n == 1 :\n",
    "        return 0\n",
    "    if n == 2 :\n",
    "        return 1\n",
    "    i = 2\n",
    "    while i*i<=n:\n",
    "        if n % i == 0:\n",
    "            return 0\n",
    "        i+=1\n",
    "    return 1\n",
    "n = int(input())\n",
    "if isprime(n):\n",
    "    print(\"Yes\")\n",
    "else:\n",
    "    print(\"No\")"
   ]
  },
  {
   "cell_type": "markdown",
   "metadata": {},
   "source": [
    "2.用Python实现插入排序该算法，不允许直接调用插入排序函数，需要手动实现其逻辑过程。"
   ]
  },
  {
   "cell_type": "code",
   "execution_count": 22,
   "metadata": {},
   "outputs": [
    {
     "name": "stdout",
     "output_type": "stream",
     "text": [
      "['1', '2', '3', '4', '5']\n"
     ]
    }
   ],
   "source": [
    "def InsertSort(arr):\n",
    "    n = len(arr)\n",
    "    for i in range(1,n):\n",
    "        for j in range(i,0,-1):\n",
    "            if arr[j] < arr[j-1]:\n",
    "                tmp = arr[j-1]\n",
    "                arr[j-1]=arr[j]\n",
    "                arr[j]=tmp\n",
    "\n",
    "arr = input().split()\n",
    "for i in range(0,len(arr)):\n",
    "    arr[i]=int(arr[i])\n",
    "InsertSort(arr)\n",
    "print(arr)"
   ]
  },
  {
   "cell_type": "markdown",
   "metadata": {},
   "source": [
    "3.用Python实现选择排序该算法，不允许直接调用插入排序函数，需要手动实现其逻辑过程。"
   ]
  },
  {
   "cell_type": "code",
   "execution_count": 1,
   "metadata": {},
   "outputs": [
    {
     "name": "stdout",
     "output_type": "stream",
     "text": [
      "[1.0, 2.0, 3.0, 4.0]\n"
     ]
    }
   ],
   "source": [
    "def SelSort(arr):\n",
    "    n = len(arr)\n",
    "    for i in range(0,n-1):\n",
    "        for j in range(i+1,n):\n",
    "            if arr[j]<arr[i]:\n",
    "                tmp=arr[j]\n",
    "                arr[j]=arr[i]\n",
    "                arr[i]=tmp\n",
    "arr = input().split(' ')\n",
    "for i in range(0,len(arr)):\n",
    "    arr[i]=int(arr[i])\n",
    "SelSort(arr)\n",
    "print(arr)"
   ]
  },
  {
   "cell_type": "markdown",
   "metadata": {},
   "source": [
    "4.用Python实现快速排序该算法，不允许直接调用插入排序函数，需要手动实现其逻辑过程。"
   ]
  },
  {
   "cell_type": "code",
   "execution_count": 53,
   "metadata": {},
   "outputs": [
    {
     "name": "stdout",
     "output_type": "stream",
     "text": [
      "[1, 2, 3, 4, 5, 6, 7, 8, 9, 10, 11]\n"
     ]
    }
   ],
   "source": [
    "def swap(arr,a:int,b:int):\n",
    "    tmp = arr[a]\n",
    "    arr[a]=arr[b]\n",
    "    arr[b]=tmp\n",
    "def QSort(arr,l:int,r:int):\n",
    "    if l >= r:\n",
    "        return\n",
    "    if l==r-1:\n",
    "        if arr[l]>arr[r]:\n",
    "            tmp=arr[l]\n",
    "            arr[l]=arr[r]\n",
    "            arr[r]=tmp\n",
    "        return\n",
    "    #随机化一个元素\n",
    "    index = random.randint(l,r)\n",
    "    swap(arr,r,index)\n",
    "    lx=l-1\n",
    "    for i in range(l,r):\n",
    "        if arr[r]>=arr[i]:\n",
    "            lx+=1\n",
    "            swap(arr,lx,i)\n",
    "    lx+=1;swap(arr,lx,r)\n",
    "    QSort(arr,l,lx-1)\n",
    "    QSort(arr,lx+1,r)\n",
    "\n",
    "arr = input().split()\n",
    "\n",
    "for i in range(0,len(arr)):\n",
    "    arr[i]=int(arr[i])\n",
    "QSort(arr,0,len(arr)-1)\n",
    "print(arr)\n",
    "\n"
   ]
  },
  {
   "cell_type": "code",
   "execution_count": null,
   "metadata": {},
   "outputs": [],
   "source": []
  }
 ],
 "metadata": {
  "kernelspec": {
   "display_name": ".venv",
   "language": "python",
   "name": "python3"
  },
  "language_info": {
   "codemirror_mode": {
    "name": "ipython",
    "version": 3
   },
   "file_extension": ".py",
   "mimetype": "text/x-python",
   "name": "python",
   "nbconvert_exporter": "python",
   "pygments_lexer": "ipython3",
   "version": "3.11.9"
  }
 },
 "nbformat": 4,
 "nbformat_minor": 2
}
